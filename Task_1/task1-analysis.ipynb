{
 "cells": [
  {
   "cell_type": "code",
   "execution_count": 45,
   "metadata": {},
   "outputs": [],
   "source": [
    "# import packages\n",
    "import matplotlib.pyplot as plt\n",
    "import os\n",
    "import numpy as np\n",
    "from sklearn.neighbors import KNeighborsClassifier\n",
    "from sklearn.ensemble import RandomForestClassifier\n",
    "from sklearn.svm import SVC\n",
    "from sklearn.model_selection import train_test_split\n",
    "from sklearn.model_selection import cross_val_score"
   ]
  },
  {
   "cell_type": "code",
   "execution_count": 2,
   "metadata": {},
   "outputs": [],
   "source": [
    "# load npy data\n",
    "feature_raw_data_path = os.path.join('..', 'Data', 'X.npy')\n",
    "feature_raw = np.load(feature_raw_data_path)\n",
    "\n",
    "label_raw_data_path = os.path.join('..', 'Data', 'Y.npy')\n",
    "label_raw = np.load(label_raw_data_path)"
   ]
  },
  {
   "cell_type": "code",
   "execution_count": 3,
   "metadata": {},
   "outputs": [
    {
     "name": "stdout",
     "output_type": "stream",
     "text": [
      "feature matrix shape:  (2062, 64, 64)\n",
      "label matrix shape:  (2062, 10)\n"
     ]
    }
   ],
   "source": [
    "print(\"feature matrix shape: \", feature_raw.shape)\n",
    "print(\"label matrix shape: \", label_raw.shape)"
   ]
  },
  {
   "cell_type": "markdown",
   "metadata": {},
   "source": [
    "# Split data into training and testing"
   ]
  },
  {
   "cell_type": "code",
   "execution_count": 17,
   "metadata": {},
   "outputs": [
    {
     "name": "stdout",
     "output_type": "stream",
     "text": [
      "train (1649, 4096) (1649, 10)\n",
      "test (413, 4096) (413, 10)\n"
     ]
    }
   ],
   "source": [
    "X = feature_raw.reshape((len(feature_raw), -1)) \n",
    "X_train, X_test, y_train, y_test = train_test_split(X, label_raw, test_size=0.2, random_state=0)\n",
    "print(\"train\", X_train.shape, y_train.shape)\n",
    "print(\"test\", X_test.shape, y_test.shape)"
   ]
  },
  {
   "cell_type": "markdown",
   "metadata": {},
   "source": [
    "# Model selection and training"
   ]
  },
  {
   "cell_type": "code",
   "execution_count": 39,
   "metadata": {},
   "outputs": [
    {
     "name": "stdout",
     "output_type": "stream",
     "text": [
      "0.61 accuracy with a standard deviation of 0.03\n"
     ]
    }
   ],
   "source": [
    "# -------knn-------\n",
    "\n",
    "knn = KNeighborsClassifier(n_neighbors=3)\n",
    "knn.fit(X_train, y_train)\n",
    "\n",
    "# cross validation\n",
    "scores = cross_val_score(knn, X_train, y_train, cv=10)\n",
    "print(\"%0.2f accuracy with a standard deviation of %0.2f\" % (scores.mean(), scores.std()))"
   ]
  },
  {
   "cell_type": "code",
   "execution_count": null,
   "metadata": {},
   "outputs": [
    {
     "name": "stdout",
     "output_type": "stream",
     "text": [
      "0.39 accuracy with a standard deviation of 0.04\n"
     ]
    }
   ],
   "source": [
    "# ----------random forest------------\n",
    "rf = RandomForestClassifier(random_state=0)\n",
    "rf.fit(X_train, y_train)\n",
    "\n",
    "# cross validation\n",
    "scores = cross_val_score(rf, X_train, y_train, cv=10)\n",
    "print(\"%0.2f accuracy with a standard deviation of %0.2f\" % (scores.mean(), scores.std()))"
   ]
  },
  {
   "cell_type": "code",
   "execution_count": 47,
   "metadata": {},
   "outputs": [
    {
     "name": "stdout",
     "output_type": "stream",
     "text": [
      "0.83 accuracy with a standard deviation of 0.03\n"
     ]
    }
   ],
   "source": [
    "# -------svm-------\n",
    "\n",
    "# reshape one hot encoding\n",
    "y_train_1d = np.argmax(y_train, axis=1)\n",
    "\n",
    "svm = SVC()\n",
    "svm.fit(X_train, y_train_1d)\n",
    "\n",
    "# cross validation\n",
    "scores = cross_val_score(svm, X_train, y_train_1d, cv=10)\n",
    "print(\"%0.2f accuracy with a standard deviation of %0.2f\" % (scores.mean(), scores.std()))"
   ]
  },
  {
   "cell_type": "markdown",
   "metadata": {},
   "source": [
    "# test on the testing data"
   ]
  },
  {
   "cell_type": "code",
   "execution_count": 48,
   "metadata": {},
   "outputs": [
    {
     "name": "stdout",
     "output_type": "stream",
     "text": [
      "knn accuracy:  0.946004842615012\n"
     ]
    }
   ],
   "source": [
    "# knn\n",
    "y_pred = knn.predict(X_test)\n",
    "print(\"knn accuracy: \", np.mean(y_pred == y_test))\n"
   ]
  },
  {
   "cell_type": "code",
   "execution_count": 49,
   "metadata": {},
   "outputs": [
    {
     "name": "stdout",
     "output_type": "stream",
     "text": [
      "random forest accuracy:  0.9399515738498789\n"
     ]
    }
   ],
   "source": [
    "# random forest\n",
    "y_pred = rf.predict(X_test)\n",
    "print(\"random forest accuracy: \", np.mean(y_pred == y_test))"
   ]
  },
  {
   "cell_type": "code",
   "execution_count": 50,
   "metadata": {},
   "outputs": [
    {
     "name": "stdout",
     "output_type": "stream",
     "text": [
      "svm accuracy:  0.847457627118644\n"
     ]
    }
   ],
   "source": [
    "# svm\n",
    "y_pred = svm.predict(X_test)\n",
    "print(\"svm accuracy: \", np.mean(y_pred == np.argmax(y_test, axis=1)))"
   ]
  }
 ],
 "metadata": {
  "kernelspec": {
   "display_name": "proj",
   "language": "python",
   "name": "python3"
  },
  "language_info": {
   "codemirror_mode": {
    "name": "ipython",
    "version": 3
   },
   "file_extension": ".py",
   "mimetype": "text/x-python",
   "name": "python",
   "nbconvert_exporter": "python",
   "pygments_lexer": "ipython3",
   "version": "3.11.4"
  }
 },
 "nbformat": 4,
 "nbformat_minor": 2
}
